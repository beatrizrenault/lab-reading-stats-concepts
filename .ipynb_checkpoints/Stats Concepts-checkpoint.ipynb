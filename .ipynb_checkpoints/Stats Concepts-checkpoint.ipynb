{
 "cells": [
  {
   "cell_type": "markdown",
   "metadata": {},
   "source": [
    "# Challenge 1: What is the difference between expected value and mean?"
   ]
  },
  {
   "cell_type": "markdown",
   "metadata": {},
   "source": [
    "#### short answer is: no difference.\n",
    "when calculating the mean of a set of numbers, we add all the numbers and divide them by the amount of numbers there is.\n",
    "when calculating the expected value in probability, we sum the outcomes and divide by the amount of outcomes as well.\n",
    "It's definition is \"A quantity equal to the average result of an experiment after a large number of trials\".\n",
    "For example, if we flip a coin twice, we have 4 different possible outcomes: (tail & tail), (head & head), (head & tail) and (tail & head). We expect to see \"head\" four times and we have four possible outcomes. 4/4 = 1, so if we flip a coin twice, we expect to see the head once.\n",
    "\n",
    "#### the thing is...\n",
    "Not always the average value of THAT random variable over a large number of experiments is in fact a realistic expectation, so calling it 'expected value' is tricky (but not wrong).\n",
    "When expecting a baby girl, for example, there is no such thing as 0.5 baby, but you could expect one baby boy if she cames as second. \n",
    "\n",
    "Bettings are another example. They are 'weighted' with other values, such as money, so there is no point into considering only the mean of the numbers, for example, and discard the 'weights'.\n",
    "Let's say: if our random variable is the number obtained by rolling a fair 6-sided die, the expected value would be (1 * 1/6) + (2 * 1/6) + (3 * 1/6).... = 3,5 (although throwing a die and getting a float is impossible).\n",
    "But if it's 'weighted' with money (or anything else), its expected value represents the expected average winnings of the game, not the die number itself.\n",
    "Imagine that every time you get odds, you lose a dollar, and every time you get evens, you gain two dollars.\n",
    "In such a game you are expected to gain money over time, so you should play this type of game, even tough the mean is the same.\n",
    "\n",
    "\n",
    "\n",
    "##### sources:\n",
    "http://web.mit.edu/neboat/Public/6.042/expectationvalue1.pdf\n",
    "##### more in:\n",
    "https://en.wikipedia.org/wiki/Expected_value\n",
    "https://www.youtube.com/watch?v=eTWaagu7u1E\n",
    "https://www.mathwords.com/e/expected_value.htm\n",
    "https://towardsdatascience.com/what-is-expected-value-4815bdbd84de\n"
   ]
  },
  {
   "cell_type": "markdown",
   "metadata": {},
   "source": [
    "# Challenge 2: What is the \"problem\" in science with p-values?"
   ]
  },
  {
   "cell_type": "markdown",
   "metadata": {},
   "source": [
    "The problem with p-values is that at some point we need bounderies to reject or not the null hyphotesis, and this is the p-value job.  Traditionally, the probability value (p-value) of less than 0.05 is commonly considered a strong evidence against a null hypothesis, while a value greater than 0.05 (or 0.1) is seens as strong evidence favoring a null hypothesis.\n",
    "\n",
    "The problem is how scientific papers and other studies rely on it. Scientists get overconfident, important research don't get the proper amount of attention because of it's results, and the scientific context of the research is also not taken into consideration. The intention is not banning the p-value, but having scientists more open to uncertainty. If the expression 'statistical significance (or confidence)' is used less, statistical thinking will be used more.\n",
    "\n",
    "##### sources:\n",
    "https://www.psychologytoday.com/us/blog/the-athletes-way/201903/rethinking-p-values-is-statistical-significance-useless\n",
    "https://www.nature.com/articles/d41586-019-00857-9\n"
   ]
  },
  {
   "cell_type": "markdown",
   "metadata": {},
   "source": [
    "# Challenge 3: Applying testing to a specific case: A/B testing.\n",
    "A/B testing is a widely used tool to understand differences between two samples. It is a way to measure the impact of something we did. Read more about A/B testing with a couple of examples:\n",
    "\n",
    "[Another example about Netflix here](http://select.video/artwork4)\n",
    "\n",
    "[What happened to Basecamp](http://millions.social/tested7)\n",
    "\n",
    "[An example with Python](http://math.social/tested3)\n",
    "\n",
    "[A cool general explanation](http://arts.show/tested7)\n",
    "\n",
    "Take one single example in the articles you just read, which specific test/s would you apply? (We want you just to do a draft and think a little bit how to apply the tests you already know in this case)"
   ]
  },
  {
   "cell_type": "code",
   "execution_count": 2,
   "metadata": {},
   "outputs": [
    {
     "data": {
      "text/plain": [
       "\"to observe diferences between two samples I would go with student's T-test, if from independent populations.\\nif I'm testing a before / after from the same population (maybe same sample, same subjects as well), I would go\\nwith paired T-Test. And if my A/B test is actually a A/B/C or more 'test', I would go with Anova.\""
      ]
     },
     "execution_count": 2,
     "metadata": {},
     "output_type": "execute_result"
    }
   ],
   "source": [
    "'''to observe diferences between two samples I would go with student's T-test, if from independent populations.\n",
    "if I'm testing a before / after from the same population (maybe same sample, same subjects as well), I would go\n",
    "with paired T-Test. And if my A/B test is actually a A/B/C or more 'test', I would go with Anova.'''\n"
   ]
  }
 ],
 "metadata": {
  "kernelspec": {
   "display_name": "Python 3",
   "language": "python",
   "name": "python3"
  },
  "language_info": {
   "codemirror_mode": {
    "name": "ipython",
    "version": 3
   },
   "file_extension": ".py",
   "mimetype": "text/x-python",
   "name": "python",
   "nbconvert_exporter": "python",
   "pygments_lexer": "ipython3",
   "version": "3.7.4"
  }
 },
 "nbformat": 4,
 "nbformat_minor": 2
}
